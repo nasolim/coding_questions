{
 "cells": [
  {
   "cell_type": "markdown",
   "metadata": {},
   "source": [
    "You have two interger arrays, a and b, and an integer target value v. determine whether there is a pair of numbers, when one number is taken from a and the other from b, that can be added together to get a sum of v. return true if such a pair exists, otherwise return false\n",
    "\n",
    "array can be empty\n",
    "array can have \"unlimited\" size\n",
    "values can be positive or negative\n"
   ]
  },
  {
   "cell_type": "code",
   "execution_count": 4,
   "metadata": {},
   "outputs": [],
   "source": [
    "def sumOfTwo(a,b,v):\n",
    "    complement = {v-number for number in a}\n",
    "    for number in b:\n",
    "        if number in complement:\n",
    "            return True\n",
    "    return False"
   ]
  },
  {
   "cell_type": "code",
   "execution_count": 12,
   "metadata": {},
   "outputs": [],
   "source": [
    "import unittest\n",
    "class TestsumOfTwoMethod(unittest.TestCase):\n",
    "    def test_with_viable_pair(self):\n",
    "        a = [0,0,-5,30212]\n",
    "        b = [-10,40,-3,9]\n",
    "        v = -8\n",
    "        self.assertTrue(sumOfTwo(a,b,v))\n",
    "    \n",
    "    def test_without_viable_pair(self):\n",
    "        a = [0,0,-5,30212]\n",
    "        b = [4,3,2]\n",
    "        v = -8\n",
    "        self.assertFalse(sumOfTwo(a,b,v))"
   ]
  },
  {
   "cell_type": "code",
   "execution_count": 14,
   "metadata": {},
   "outputs": [
    {
     "name": "stderr",
     "output_type": "stream",
     "text": [
      "..\n",
      "----------------------------------------------------------------------\n",
      "Ran 2 tests in 0.003s\n",
      "\n",
      "OK\n"
     ]
    },
    {
     "data": {
      "text/plain": [
       "<unittest.main.TestProgram at 0x10e273f98>"
      ]
     },
     "execution_count": 14,
     "metadata": {},
     "output_type": "execute_result"
    }
   ],
   "source": [
    "unittest.main(argv=['first-arg-is-ignored'], exit=False)"
   ]
  }
 ],
 "metadata": {
  "kernelspec": {
   "display_name": "Python 3",
   "language": "python",
   "name": "python3"
  },
  "language_info": {
   "codemirror_mode": {
    "name": "ipython",
    "version": 3
   },
   "file_extension": ".py",
   "mimetype": "text/x-python",
   "name": "python",
   "nbconvert_exporter": "python",
   "pygments_lexer": "ipython3",
   "version": "3.7.3"
  }
 },
 "nbformat": 4,
 "nbformat_minor": 2
}
