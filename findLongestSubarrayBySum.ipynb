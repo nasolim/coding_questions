{
 "cells": [
  {
   "cell_type": "markdown",
   "metadata": {},
   "source": [
    "Given an array of integers, return the index positions of the start and end of the longest subarray that sums to the given value s\n",
    "\n",
    "0 <= s <=10^9\n",
    "1 <= arr.length <= 10^5\n",
    "0 <= arr[i] <= 10^4"
   ]
  },
  {
   "cell_type": "code",
   "execution_count": 64,
   "metadata": {},
   "outputs": [],
   "source": [
    "# sliding window approach\n",
    "def findLongestSubarrayBySum(arr, s):\n",
    "    current_sum = 0\n",
    "    left_pointer = 0\n",
    "    right_pointer = 0\n",
    "    result = [0,0]\n",
    "    while left_pointer <= right_pointer:\n",
    "        current_sum += arr[right_pointer]\n",
    "        if current_sum > s: # if we exceed the sum, move the left pointer over\n",
    "            current_sum -= arr[left_pointer]\n",
    "            left_pointer += 1\n",
    "        if (current_sum == s) & (right_pointer - left_pointer > result[1] - result[0]):\n",
    "            result = [left_pointer + 1, right_pointer + 1]\n",
    "        right_pointer += 1\n",
    "        if right_pointer == len(arr):\n",
    "            break\n",
    "    return result"
   ]
  },
  {
   "cell_type": "code",
   "execution_count": 65,
   "metadata": {},
   "outputs": [
    {
     "data": {
      "text/plain": [
       "[1, 5]"
      ]
     },
     "execution_count": 65,
     "metadata": {},
     "output_type": "execute_result"
    }
   ],
   "source": [
    "arr = [1,2,3,4,5,6,7,8,9,10]\n",
    "s = 15\n",
    "r = [1,5]\n",
    "findLongestSubarrayBySum(arr,s)"
   ]
  },
  {
   "cell_type": "code",
   "execution_count": 66,
   "metadata": {},
   "outputs": [],
   "source": [
    "import unittest\n",
    "\n",
    "class TestFindLongestSubarrayBySum(unittest.TestCase):\n",
    "    def test_arr(self):\n",
    "        arr = [1,2,3,4,5,6,7,8,9,10]\n",
    "        s = 15\n",
    "        r = [1,5]\n",
    "        self.assertEqual(findLongestSubarrayBySum(arr,s),r)\n",
    "    def test_arr_with_zero_padding(self):\n",
    "        arr = [1,2,3,4,5,0,0,0,6,7,8,9,10]\n",
    "        s = 15\n",
    "        r = [1,8]\n",
    "        self.assertEqual(findLongestSubarrayBySum(arr,s),r)\n",
    "    def test_arr_not_sorted(self):\n",
    "        arr = [10,9,1,2,3,4,5,0,0,0,6,7,8]\n",
    "        s = 15\n",
    "        r = [3,10]\n",
    "        self.assertEqual(findLongestSubarrayBySum(arr,s),r)"
   ]
  },
  {
   "cell_type": "code",
   "execution_count": 67,
   "metadata": {},
   "outputs": [
    {
     "name": "stderr",
     "output_type": "stream",
     "text": [
      "...\n",
      "----------------------------------------------------------------------\n",
      "Ran 3 tests in 0.002s\n",
      "\n",
      "OK\n"
     ]
    },
    {
     "data": {
      "text/plain": [
       "<unittest.main.TestProgram at 0x111bae208>"
      ]
     },
     "execution_count": 67,
     "metadata": {},
     "output_type": "execute_result"
    }
   ],
   "source": [
    "unittest.main(argv=['first-arg-is-ignored'],exit=False )"
   ]
  }
 ],
 "metadata": {
  "kernelspec": {
   "display_name": "Python 3",
   "language": "python",
   "name": "python3"
  },
  "language_info": {
   "codemirror_mode": {
    "name": "ipython",
    "version": 3
   },
   "file_extension": ".py",
   "mimetype": "text/x-python",
   "name": "python",
   "nbconvert_exporter": "python",
   "pygments_lexer": "ipython3",
   "version": "3.7.3"
  }
 },
 "nbformat": 4,
 "nbformat_minor": 2
}
