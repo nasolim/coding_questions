{
 "cells": [
  {
   "cell_type": "markdown",
   "metadata": {},
   "source": [
    "### The Problem\n",
    "You have a sorted array of integers. Write a function that returns a sorted array containing the squares of those integers\n",
    "\n",
    "#### Extra information\n",
    "sortedSquaredArray(array){\n",
    "    // code\n",
    "}\n",
    "\n",
    "* input array length 1 <= N <= 10000\n",
    "* element -10000 <= array[i] <= 10000\n",
    "\n",
    "* input array will be sorted\n",
    "* output array must be sorted\n",
    "\n",
    "Question From: https://www.youtube.com/watch?v=4eWKHLSRHPY&t=185s"
   ]
  },
  {
   "cell_type": "code",
   "execution_count": 15,
   "metadata": {},
   "outputs": [],
   "source": [
    "def sortedSquaredArrayWithResultArray(arr):\n",
    "    result = []\n",
    "    for element in arr:\n",
    "        result.append(element ** 2)\n",
    "    return sorted(result)"
   ]
  },
  {
   "cell_type": "code",
   "execution_count": 25,
   "metadata": {},
   "outputs": [
    {
     "name": "stdout",
     "output_type": "stream",
     "text": [
      "2.15 µs ± 12.2 ns per loop (mean ± std. dev. of 7 runs, 100000 loops each)\n"
     ]
    }
   ],
   "source": [
    "test = [-7,-3,-1,4,8,12]\n",
    "%timeit sortedSquaredArrayWithResultArray(test)"
   ]
  },
  {
   "cell_type": "code",
   "execution_count": 26,
   "metadata": {},
   "outputs": [],
   "source": [
    "def sortedSquaredArray(arr):\n",
    "    for index, element in enumerate(arr, start = 0):\n",
    "        arr[index] = element ** 2\n",
    "    return sorted(arr)"
   ]
  },
  {
   "cell_type": "code",
   "execution_count": 28,
   "metadata": {},
   "outputs": [
    {
     "name": "stdout",
     "output_type": "stream",
     "text": [
      "CPU times: user 9 µs, sys: 1e+03 ns, total: 10 µs\n",
      "Wall time: 11 µs\n"
     ]
    },
    {
     "data": {
      "text/plain": [
       "[1, 9, 16, 49, 64, 144]"
      ]
     },
     "execution_count": 28,
     "metadata": {},
     "output_type": "execute_result"
    }
   ],
   "source": [
    "test = [-7,-3,-1,4,8,12]\n",
    "%time sortedSquaredArray(test)"
   ]
  },
  {
   "cell_type": "markdown",
   "metadata": {},
   "source": [
    "I'm not a fan of the method above because it replaces the original arr received"
   ]
  },
  {
   "cell_type": "code",
   "execution_count": 35,
   "metadata": {},
   "outputs": [],
   "source": [
    "def sortedSquaredArrayStepping(arr):\n",
    "    left = 0\n",
    "    right = 1\n",
    "    result = []\n",
    "    for count in range(len(arr)):\n",
    "        if(abs(arr[left]) > abs(arr[-right])):\n",
    "            result.append(arr[left] ** 2)\n",
    "            left += 1\n",
    "        else:\n",
    "            result.append(arr[-right] ** 2)\n",
    "            right += 1\n",
    "    return list(reversed(result))"
   ]
  },
  {
   "cell_type": "code",
   "execution_count": 37,
   "metadata": {},
   "outputs": [
    {
     "data": {
      "text/plain": [
       "[1, 9, 16, 49, 64, 144]"
      ]
     },
     "execution_count": 37,
     "metadata": {},
     "output_type": "execute_result"
    }
   ],
   "source": [
    "test = [-7,-3,-1,4,8,12]\n",
    "sortedSquaredArrayStepping(test)"
   ]
  },
  {
   "cell_type": "code",
   "execution_count": 39,
   "metadata": {},
   "outputs": [
    {
     "name": "stdout",
     "output_type": "stream",
     "text": [
      "3.7 µs ± 53 ns per loop (mean ± std. dev. of 7 runs, 100000 loops each)\n"
     ]
    }
   ],
   "source": [
    "%timeit sortedSquaredArrayStepping(test)"
   ]
  },
  {
   "cell_type": "code",
   "execution_count": 49,
   "metadata": {},
   "outputs": [],
   "source": [
    "def sortedSquaredArraySteppingTwo(arr):\n",
    "    left = 0\n",
    "    right = len(arr) -1\n",
    "    result = [None] * len(arr)\n",
    "    for count in range(len(arr)):\n",
    "        if(abs(arr[left]) > abs(arr[right])):\n",
    "            result[-(count + 1)] = arr[left] ** 2 \n",
    "            left += 1\n",
    "        else:\n",
    "            result[-(count + 1)] =  arr[right] ** 2\n",
    "            right -= 1\n",
    "    return list(result)"
   ]
  },
  {
   "cell_type": "code",
   "execution_count": 50,
   "metadata": {},
   "outputs": [
    {
     "data": {
      "text/plain": [
       "[1, 9, 16, 49, 64, 144]"
      ]
     },
     "execution_count": 50,
     "metadata": {},
     "output_type": "execute_result"
    }
   ],
   "source": [
    "sortedSquaredArraySteppingTwo(test)"
   ]
  },
  {
   "cell_type": "code",
   "execution_count": 51,
   "metadata": {},
   "outputs": [
    {
     "name": "stdout",
     "output_type": "stream",
     "text": [
      "3.52 µs ± 31.5 ns per loop (mean ± std. dev. of 7 runs, 100000 loops each)\n"
     ]
    }
   ],
   "source": [
    "%timeit sortedSquaredArraySteppingTwo(test)"
   ]
  }
 ],
 "metadata": {
  "kernelspec": {
   "display_name": "Python 3",
   "language": "python",
   "name": "python3"
  },
  "language_info": {
   "codemirror_mode": {
    "name": "ipython",
    "version": 3
   },
   "file_extension": ".py",
   "mimetype": "text/x-python",
   "name": "python",
   "nbconvert_exporter": "python",
   "pygments_lexer": "ipython3",
   "version": "3.7.3"
  }
 },
 "nbformat": 4,
 "nbformat_minor": 2
}
