{
 "cells": [
  {
   "cell_type": "markdown",
   "metadata": {},
   "source": [
    "** Array will be of size NxN\n",
    "** We'll want to rotate the array received\n",
    "\n",
    "Example:\n",
    "\n",
    "\n",
    "[[1,2,3],                  \n",
    "[4,5,6],  \n",
    "[7,8,9]]                  \n",
    "\n",
    "will rotate to  \n",
    "\n",
    "[[7,4,1],\n",
    "[8,5,2],\n",
    "[9,6,3]]\n",
    "\n",
    "### Problem: \n",
    "You are given an n x n 2D matric that represents an image. Rotate the image by 90 degrees (clockwise)"
   ]
  },
  {
   "cell_type": "code",
   "execution_count": 7,
   "metadata": {},
   "outputs": [],
   "source": [
    "def rotateImage(arr):\n",
    "#     determine n\n",
    "    n = len(arr)\n",
    "#     create an empty array\n",
    "    template = []\n",
    "    for _ in range(n):\n",
    "        template.append([0] * n)\n",
    "    for row_index, row in enumerate(arr):\n",
    "        for column_index, element in enumerate(row):\n",
    "            column = n - (row_index + 1)\n",
    "            template[column_index][column] = element\n",
    "    return template"
   ]
  },
  {
   "cell_type": "code",
   "execution_count": 99,
   "metadata": {},
   "outputs": [
    {
     "name": "stdout",
     "output_type": "stream",
     "text": [
      "2.62 µs ± 10.8 ns per loop (mean ± std. dev. of 7 runs, 100000 loops each)\n"
     ]
    }
   ],
   "source": [
    "arr = [[1,2,3],[4,5,6],[7,8,9]]\n",
    "%timeit rotateImage(arr)"
   ]
  },
  {
   "cell_type": "code",
   "execution_count": 88,
   "metadata": {},
   "outputs": [],
   "source": [
    "from math import floor\n",
    "def rotateImageTranspose(arr):\n",
    "    n = len(arr)\n",
    "#     flip array along the diagonal \n",
    "    for ridx in range(n):\n",
    "        for cidx in range(ridx+1):\n",
    "            temp = arr[ridx][cidx]\n",
    "            arr[ridx][cidx] = arr[cidx][ridx]\n",
    "            arr[cidx][ridx] = temp\n",
    "#   flip array horizontally\n",
    "    for ridx in range(n):\n",
    "        for cidx in range(floor(n/2)):\n",
    "            temp = arr[ridx][cidx]\n",
    "            arr[ridx][cidx] = arr[ridx][n - 1 - cidx]\n",
    "            arr[ridx][n - 1 - cidx] = temp\n",
    "    return arr"
   ]
  },
  {
   "cell_type": "code",
   "execution_count": 100,
   "metadata": {},
   "outputs": [
    {
     "name": "stdout",
     "output_type": "stream",
     "text": [
      "4.1 µs ± 6.72 ns per loop (mean ± std. dev. of 7 runs, 100000 loops each)\n"
     ]
    }
   ],
   "source": [
    "arr2 = [[1,2,3],[4,5,6],[7,8,9]]\n",
    "%timeit rotateImageTranspose(arr2)"
   ]
  },
  {
   "cell_type": "code",
   "execution_count": 92,
   "metadata": {},
   "outputs": [
    {
     "data": {
      "text/plain": [
       "[[13, 9, 5, 1], [14, 10, 6, 2], [15, 11, 7, 3], [16, 12, 8, 4]]"
      ]
     },
     "execution_count": 92,
     "metadata": {},
     "output_type": "execute_result"
    }
   ],
   "source": [
    "arr3 = [[1,2,3,4],[5,6,7,8],[9,10,11,12],[13,14,15,16]]\n",
    "rotateImageTranspose(arr3)"
   ]
  },
  {
   "cell_type": "code",
   "execution_count": 97,
   "metadata": {},
   "outputs": [
    {
     "name": "stdout",
     "output_type": "stream",
     "text": [
      "8.52 µs ± 53.5 ns per loop (mean ± std. dev. of 7 runs, 100000 loops each)\n"
     ]
    }
   ],
   "source": [
    "arr4 = [['q','w','e','r','t'],['a','s','d','f','g'],['z','x','c','v','b'],['y','u','i','o','p'],['h','j','k','l','n']]\n",
    "%timeit rotateImageTranspose(arr4)"
   ]
  }
 ],
 "metadata": {
  "kernelspec": {
   "display_name": "Python 3",
   "language": "python",
   "name": "python3"
  },
  "language_info": {
   "codemirror_mode": {
    "name": "ipython",
    "version": 3
   },
   "file_extension": ".py",
   "mimetype": "text/x-python",
   "name": "python",
   "nbconvert_exporter": "python",
   "pygments_lexer": "ipython3",
   "version": "3.7.3"
  }
 },
 "nbformat": 4,
 "nbformat_minor": 2
}
